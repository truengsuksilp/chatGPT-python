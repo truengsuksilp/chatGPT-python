{
 "cells": [
  {
   "cell_type": "code",
   "execution_count": 3,
   "id": "5a439d3d-ae9b-42ff-9a81-8142d665a6d1",
   "metadata": {
    "tags": []
   },
   "outputs": [
    {
     "name": "stdout",
     "output_type": "stream",
     "text": [
      "\n",
      "\n",
      "SELECT COUNT(*) \n",
      "FROM forms \n",
      "WHERE demographics_verified = 1 \n",
      "AND (year = 2022 OR year = 2023);\n"
     ]
    }
   ],
   "source": [
    "import json\n",
    "import os\n",
    "\n",
    "import openai\n",
    "from dotenv import load_dotenv\n",
    "load_dotenv()\n",
    "\n",
    "### Input text for ChatGPT in a file called prompt.txt\n",
    "prompt = open(\"prompt.txt\", \"r\").read()\n",
    "# prompt = \"Create a SQL query to count the total number of forms signed in 2022 and 2023 and filter for demographics_verified\"\n",
    "\n",
    "### Get API key\n",
    "openai.api_key = os.getenv(\"OPENAI_API_KEY\")\n",
    "\n",
    "### Call OpenAI ###\n",
    "response = openai.Completion.create(\n",
    "  model=\"text-davinci-003\",\n",
    "  prompt=prompt,\n",
    "  temperature=0.3,\n",
    "  max_tokens=60,\n",
    "  top_p=1.0,\n",
    "  frequency_penalty=0.0,\n",
    "  presence_penalty=0.0\n",
    ")\n",
    "\n",
    "print(response.choices[0].text)"
   ]
  },
  {
   "cell_type": "code",
   "execution_count": null,
   "id": "dcea98ba-b885-44e9-a4dd-baf526cdcf98",
   "metadata": {},
   "outputs": [],
   "source": []
  }
 ],
 "metadata": {
  "kernelspec": {
   "display_name": "Python 3 (ipykernel)",
   "language": "python",
   "name": "python3"
  },
  "language_info": {
   "codemirror_mode": {
    "name": "ipython",
    "version": 3
   },
   "file_extension": ".py",
   "mimetype": "text/x-python",
   "name": "python",
   "nbconvert_exporter": "python",
   "pygments_lexer": "ipython3",
   "version": "3.11.2"
  }
 },
 "nbformat": 4,
 "nbformat_minor": 5
}
